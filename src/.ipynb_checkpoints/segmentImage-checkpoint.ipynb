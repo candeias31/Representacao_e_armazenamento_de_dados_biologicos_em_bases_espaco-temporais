{
 "cells": [
  {
   "cell_type": "markdown",
   "metadata": {},
   "source": [
    "This script needs to run in a computer with ImageJ installed with the plugin \"Auto_Threshold\" (latest verion tested 1.17.2)\n",
    "\n",
    "Note : Relative path to the macro, only works if ImageJ isn't open, otherwise it uses the Macro folder from ImageJ as the current directory"
   ]
  },
  {
   "cell_type": "code",
   "execution_count": 1,
   "metadata": {},
   "outputs": [],
   "source": [
    "import os\n",
    "import sqlalchemy as sa\n",
    "import pandas as pd\n",
    "import cv2\n",
    "import numpy as np\n",
    "import re\n",
    "from PIL import Image"
   ]
  },
  {
   "cell_type": "markdown",
   "metadata": {},
   "source": [
    "function that translate the treatment given to the image after the threshold, depending on type"
   ]
  },
  {
   "cell_type": "code",
   "execution_count": 2,
   "metadata": {},
   "outputs": [],
   "source": [
    "def returnType(treatment):\n",
    "    type0 = \"\";\n",
    "    \n",
    "    type1 = \"\"\"run(\"Close-\");\\n\"\"\";\n",
    "    \n",
    "    type2 = \"\"\"run(\"Open\");\\n\"\"\"; \n",
    "    \n",
    "    type3 = \"\"\"run(\"Erode\");\\n\"\"\"\n",
    "    \n",
    "    type4 = \"\"\"run(\"Dilate\");\\n\"\"\"\n",
    "    \n",
    "    type5 = type1+type2;\n",
    "    \n",
    "    type6 = type2+type1;\n",
    "    \n",
    "    types = [type0,type1,type2,type3,type4,type5,type6]\n",
    "    return (types[treatment])"
   ]
  },
  {
   "cell_type": "markdown",
   "metadata": {},
   "source": [
    "fuction that creates the macro that does the changes needed to all images from the given dataset and returns the path to the created macro:\n",
    "    - src : specify the original dataset directory path\n",
    "    - dest : specify the directory path to the new dataset\n",
    "    - method : Threshold method \n",
    "    - treatment : pre-defined set of changes to make after the threshold algorithm\n",
    "    - filename : substring of original images before the image number\n",
    "    - changeback : switch the background with the foreground color before make the defined changes. (default = True)"
   ]
  },
  {
   "cell_type": "code",
   "execution_count": 3,
   "metadata": {},
   "outputs": [],
   "source": [
    "def createMacro(src, dest,method,treatment,fileName,changeBack=True):\n",
    "    try: \n",
    "        os.makedirs(dest)\n",
    "    except OSError:\n",
    "        if not os.path.isdir(dest):\n",
    "            raise\n",
    "    dirPath = dest+\"\\\\\"+method+str(treatment);\n",
    "    os.mkdir(dirPath)\n",
    "    \n",
    "    files = os.listdir(src);\n",
    "    frames = sum(1 for file in files if file.endswith(\".tif\"))\n",
    "    \n",
    "    source = src.replace(\"\\\\\",\"/\");\n",
    "    dirPath +=\"/\"\n",
    "    dirPath = dirPath.replace(\"\\\\\",\"/\");\n",
    "    dirPath = dirPath.replace(\"\\0\",\"\\\\0\")\n",
    "    macro = \"\"\"for(i=0;i<{frames};i++){{\n",
    "    if(i<10){{\n",
    "    fileTif = \"{fileName}00\"+i+\".tif\";}}\n",
    "    else if(i<100){{\n",
    "    fileTif = \"{fileName}0\"+i+\".tif\";}}\n",
    "    else{{\n",
    "    fileTif = \"{fileName}\"+i+\".tif\";}}\n",
    "    open(\"{source}\"+fileTif);\n",
    "    run(\"16-bit\");\"\"\".format(frames=(frames),fileName=fileName,source=source,destination=dirPath)\n",
    "    if method:\n",
    "        macro+=\"\"\"run(\"Auto Threshold...\", \"method={method}\")\"\"\".format(method=method)\n",
    "\n",
    "    if(changeBack):\n",
    "        macro += \"\"\"setOption(\"BlackBackground\", true);\n",
    "        run(\"Convert to Mask\");\n",
    "        \"\"\";\n",
    "    macro += str(returnType(treatment));\n",
    "    if(changeBack):\n",
    "        macro += \"\"\"setAutoThreshold(\"Default dark\");\n",
    "        \"\"\";\n",
    "    macro += \"\"\"saveAs(\"Tiff\", \"{destination}\"+fileTif);\n",
    "    close();\n",
    "    }}\n",
    "    \"\"\".format(frames=frames,fileName=fileName,source=source,destination=dirPath,method=method)\n",
    "    macroPath = dirPath+\"macro.ijm\"\n",
    "    f = open(macroPath,'w');\n",
    "    f.write(macro);\n",
    "    f.close();\n",
    "    return macroPath;\n",
    "    "
   ]
  },
  {
   "cell_type": "code",
   "execution_count": null,
   "metadata": {},
   "outputs": [],
   "source": [
    "def main():\n",
    "    src = \"..\\\\Datasets\\\\TrackingChallenge\\\\Fluo-N2DH-SIM+\\\\01_GT\\\\TRA\\\\segmented\\\\0\\\\\";\n",
    "    dest = \"..\\\\Datasets\\\\TrackingChallenge\\\\Fluo-N2DH-SIM+\\\\01_GT\\\\TRA\\\\segmented\\\\0\\\\0\\\\\";\n",
    "    method = \"\"\n",
    "    treatment = 0;\n",
    "    fileName = \"mask\"\n",
    "    macroPath = createMacro(src,dest,method,treatment,fileName,False)\n",
    "    imageJdir = \"C:\\Users\\cool_\\Documents\\ImageJ\\ImageJ.exe\";\n",
    "    \n",
    "    cmd = 'cmd /c \\\"\"'+ imageJdir + '\" -macro \\\"' + macroPath + '\\\"\"';\n",
    "    os.system(cmd);\n",
    "\n",
    "main()"
   ]
  },
  {
   "cell_type": "markdown",
   "metadata": {},
   "source": [
    "rename all images name to a format like name + number with 3 digits + \".tif\""
   ]
  },
  {
   "cell_type": "code",
   "execution_count": null,
   "metadata": {},
   "outputs": [],
   "source": [
    "def renameImages(src,name):\n",
    "    i=0;\n",
    "    for file in os.listdir(src):\n",
    "        os.rename(src+file,src+name+\"{:03.0f}.tif\".format(i));\n",
    "        i +=1;\n",
    "\n",
    "src = \"..\\\\Datasets\\\\TrackingChallenge\\\\Fluo-N2DH-SIM+\\\\01_GT\\\\TRA\\\\segmented\\\\0\\\\0\\\\0\\\\\";\n",
    "renameImages(src,\"mask\")"
   ]
  },
  {
   "cell_type": "code",
   "execution_count": 34,
   "metadata": {},
   "outputs": [],
   "source": [
    "def changePix(image):\n",
    "    for k in range(0,64):\n",
    "        im = Image.open('..\\\\Datasets\\\\TrackingChallenge\\\\Fluo-N2DH-SIM+\\\\01_GT\\\\TRA\\\\segmented\\\\0\\\\0\\\\0\\\\man_track{:03.0f}.tif'.format(k)) # Can be many different formats.\n",
    "        pix = im.load()\n",
    "        cells = pd.read_sql_query('select cellid, ST_X(ST_centroid(geom)) as x,ST_Y(ST_centroid(geom)) as y, myId from %s where frame=%s'%('lifetmp',k),con=engine)\n",
    "        for index, row in cells.iterrows():\n",
    "            x = int(row.x)\n",
    "            y = 0-int(row.y)\n",
    "            print x,y,type(x),type(y)\n",
    "            changeCell = pix[x,y]  # Get the RGBA Value of the apixel of an image\n",
    "            columnsize, rowsize = im.size \n",
    "            for i in range(rowsize):\n",
    "                for j in range(columnsize):\n",
    "                    if(pix[j,i]==changeCell):\n",
    "                        im.putpixel((j, i), row.myid)  # Set the RGBA Value of the image (tuple)\n",
    "            \n",
    "        im.save('RES\\\\mask{:03.0f}.tif'.format(k))  # Save the modified pixels as .png"
   ]
  },
  {
   "cell_type": "code",
   "execution_count": 23,
   "metadata": {},
   "outputs": [],
   "source": [
    "def initializeDb(username, password, server, port, database):\n",
    "    parameters = { \n",
    "               'username': username, \n",
    "               'password': password,\n",
    "               'server':   server,\n",
    "                'port' : port,\n",
    "               'database': database\n",
    "             }\n",
    "    connection = 'postgresql://{username}:{password}@{server}:{port}/{database}'.format(**parameters);\n",
    "    \n",
    "    return sa.create_engine(connection, encoding=\"utf-8\")"
   ]
  },
  {
   "cell_type": "code",
   "execution_count": 6,
   "metadata": {},
   "outputs": [],
   "source": [
    "def main2 (username,password,server,port,database):\n",
    "   \n",
    "    return initializeDb(username,password,server,port,database);"
   ]
  },
  {
   "cell_type": "code",
   "execution_count": 7,
   "metadata": {},
   "outputs": [],
   "source": [
    "engine = main2(\"postgres\",\"postgres\",\"localhost\",5434,\"Fluo-N2DH-SIM+_GT\")"
   ]
  },
  {
   "cell_type": "code",
   "execution_count": 14,
   "metadata": {},
   "outputs": [],
   "source": [
    "cells0 = pd.read_sql_query('select cellid, ST_AsText(ST_centroid(geom)) as centroid, myId from %s where frame=0'%('lifetmp'),con=engine)"
   ]
  },
  {
   "cell_type": "code",
   "execution_count": 35,
   "metadata": {
    "scrolled": true
   },
   "outputs": [
    {
     "name": "stdout",
     "output_type": "stream",
     "text": [
      "278 481\n"
     ]
    },
    {
     "ename": "SystemError",
     "evalue": "error return without exception set",
     "output_type": "error",
     "traceback": [
      "\u001b[1;31m---------------------------------------------------------------------------\u001b[0m",
      "\u001b[1;31mSystemError\u001b[0m                               Traceback (most recent call last)",
      "\u001b[1;32m<ipython-input-35-4d72f345dc7f>\u001b[0m in \u001b[0;36m<module>\u001b[1;34m()\u001b[0m\n\u001b[1;32m----> 1\u001b[1;33m \u001b[0mchangePix\u001b[0m\u001b[1;33m(\u001b[0m\u001b[1;34m'..\\\\mask000.tif'\u001b[0m\u001b[1;33m)\u001b[0m\u001b[1;33m\u001b[0m\u001b[0m\n\u001b[0m",
      "\u001b[1;32m<ipython-input-34-82a398522513>\u001b[0m in \u001b[0;36mchangePix\u001b[1;34m(image)\u001b[0m\n\u001b[0;32m     13\u001b[0m                 \u001b[1;32mfor\u001b[0m \u001b[0mj\u001b[0m \u001b[1;32min\u001b[0m \u001b[0mrange\u001b[0m\u001b[1;33m(\u001b[0m\u001b[0mcolumnsize\u001b[0m\u001b[1;33m)\u001b[0m\u001b[1;33m:\u001b[0m\u001b[1;33m\u001b[0m\u001b[0m\n\u001b[0;32m     14\u001b[0m                     \u001b[1;32mif\u001b[0m\u001b[1;33m(\u001b[0m\u001b[0mpix\u001b[0m\u001b[1;33m[\u001b[0m\u001b[0mj\u001b[0m\u001b[1;33m,\u001b[0m\u001b[0mi\u001b[0m\u001b[1;33m]\u001b[0m\u001b[1;33m==\u001b[0m\u001b[0mchangeCell\u001b[0m\u001b[1;33m)\u001b[0m\u001b[1;33m:\u001b[0m\u001b[1;33m\u001b[0m\u001b[0m\n\u001b[1;32m---> 15\u001b[1;33m                         \u001b[0mim\u001b[0m\u001b[1;33m.\u001b[0m\u001b[0mputpixel\u001b[0m\u001b[1;33m(\u001b[0m\u001b[1;33m(\u001b[0m\u001b[0mj\u001b[0m\u001b[1;33m,\u001b[0m \u001b[0mi\u001b[0m\u001b[1;33m)\u001b[0m\u001b[1;33m,\u001b[0m \u001b[0mrow\u001b[0m\u001b[1;33m.\u001b[0m\u001b[0mmyid\u001b[0m\u001b[1;33m)\u001b[0m  \u001b[1;31m# Set the RGBA Value of the image (tuple)\u001b[0m\u001b[1;33m\u001b[0m\u001b[0m\n\u001b[0m\u001b[0;32m     16\u001b[0m \u001b[1;33m\u001b[0m\u001b[0m\n\u001b[0;32m     17\u001b[0m         \u001b[0mim\u001b[0m\u001b[1;33m.\u001b[0m\u001b[0msave\u001b[0m\u001b[1;33m(\u001b[0m\u001b[1;34m'RES\\\\mask{:03.0f}.tif'\u001b[0m\u001b[1;33m.\u001b[0m\u001b[0mformat\u001b[0m\u001b[1;33m(\u001b[0m\u001b[0mk\u001b[0m\u001b[1;33m)\u001b[0m\u001b[1;33m)\u001b[0m  \u001b[1;31m# Save the modified pixels as .png\u001b[0m\u001b[1;33m\u001b[0m\u001b[0m\n",
      "\u001b[1;32mC:\\Python27\\lib\\site-packages\\PIL\\Image.pyc\u001b[0m in \u001b[0;36mputpixel\u001b[1;34m(self, xy, value)\u001b[0m\n\u001b[0;32m   1751\u001b[0m             \u001b[1;31m# RGB or RGBA value for a P image\u001b[0m\u001b[1;33m\u001b[0m\u001b[1;33m\u001b[0m\u001b[0m\n\u001b[0;32m   1752\u001b[0m             \u001b[0mvalue\u001b[0m \u001b[1;33m=\u001b[0m \u001b[0mself\u001b[0m\u001b[1;33m.\u001b[0m\u001b[0mpalette\u001b[0m\u001b[1;33m.\u001b[0m\u001b[0mgetcolor\u001b[0m\u001b[1;33m(\u001b[0m\u001b[0mvalue\u001b[0m\u001b[1;33m)\u001b[0m\u001b[1;33m\u001b[0m\u001b[0m\n\u001b[1;32m-> 1753\u001b[1;33m         \u001b[1;32mreturn\u001b[0m \u001b[0mself\u001b[0m\u001b[1;33m.\u001b[0m\u001b[0mim\u001b[0m\u001b[1;33m.\u001b[0m\u001b[0mputpixel\u001b[0m\u001b[1;33m(\u001b[0m\u001b[0mxy\u001b[0m\u001b[1;33m,\u001b[0m \u001b[0mvalue\u001b[0m\u001b[1;33m)\u001b[0m\u001b[1;33m\u001b[0m\u001b[0m\n\u001b[0m\u001b[0;32m   1754\u001b[0m \u001b[1;33m\u001b[0m\u001b[0m\n\u001b[0;32m   1755\u001b[0m     \u001b[1;32mdef\u001b[0m \u001b[0mremap_palette\u001b[0m\u001b[1;33m(\u001b[0m\u001b[0mself\u001b[0m\u001b[1;33m,\u001b[0m \u001b[0mdest_map\u001b[0m\u001b[1;33m,\u001b[0m \u001b[0msource_palette\u001b[0m\u001b[1;33m=\u001b[0m\u001b[0mNone\u001b[0m\u001b[1;33m)\u001b[0m\u001b[1;33m:\u001b[0m\u001b[1;33m\u001b[0m\u001b[0m\n",
      "\u001b[1;31mSystemError\u001b[0m: error return without exception set"
     ]
    }
   ],
   "source": [
    "changePix('..\\\\mask000.tif')"
   ]
  },
  {
   "cell_type": "code",
   "execution_count": null,
   "metadata": {},
   "outputs": [],
   "source": [
    "278 481\n",
    "455 657\n",
    "151 648"
   ]
  },
  {
   "cell_type": "code",
   "execution_count": 28,
   "metadata": {},
   "outputs": [],
   "source": [
    "def changePix(image):\n",
    "    for k in range(0,64):\n",
    "        im = Image.open('..\\\\Datasets\\\\TrackingChallenge\\\\Fluo-N2DH-SIM+\\\\01_GT\\\\TRA\\\\segmented\\\\0\\\\0\\\\0\\\\man_track{:03.0f}.tif'.format(k)) # Can be many different formats.\n",
    "        pix = im.load()\n",
    "        cells = pd.read_sql_query('select cellid, ST_AsText(ST_centroid(geom)) as centroid, myId from %s where frame=%s'%('lifetmp',k),con=engine)\n",
    "        for index, row in cells.iterrows():\n",
    "            try:\n",
    "                x = int(float(re.findall(\"\\d+\\.\\d+\",row.centroid)[0]))\n",
    "                y = int(float(re.findall(\"\\d+\\.\\d+\",row.centroid)[1]))\n",
    "                print x,y\n",
    "                changeCell = pix[x,y]  # Get the RGBA Value of the apixel of an image\n",
    "                columnsize, rowsize = im.size \n",
    "                for i in range(rowsize):\n",
    "                    for j in range(columnsize):\n",
    "                        if(pix[j,i]==changeCell):\n",
    "                            im.putpixel((j, i), row.myid)  # Set the RGBA Value of the image (tuple)\n",
    "            except:\n",
    "                print row.cellid\n",
    "                print re.findall(\"\\d+\\.\\d+\",row.centroid)\n",
    "        im.save('RES\\\\mask{:03.0f}.tif'.format(k))  # Save the modified pixels as .png"
   ]
  },
  {
   "cell_type": "code",
   "execution_count": null,
   "metadata": {},
   "outputs": [],
   "source": []
  }
 ],
 "metadata": {
  "kernelspec": {
   "display_name": "Python 2",
   "language": "python",
   "name": "python2"
  },
  "language_info": {
   "codemirror_mode": {
    "name": "ipython",
    "version": 2
   },
   "file_extension": ".py",
   "mimetype": "text/x-python",
   "name": "python",
   "nbconvert_exporter": "python",
   "pygments_lexer": "ipython2",
   "version": "2.7.16"
  }
 },
 "nbformat": 4,
 "nbformat_minor": 2
}
