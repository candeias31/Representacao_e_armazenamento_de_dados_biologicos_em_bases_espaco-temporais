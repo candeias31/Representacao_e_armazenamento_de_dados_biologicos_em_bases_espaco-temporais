{
 "cells": [
  {
   "cell_type": "code",
   "execution_count": 1,
   "metadata": {},
   "outputs": [],
   "source": [
    "import psycopg2\n",
    "import os\n",
    "import matplotlib.pyplot as plt\n",
    "import seaborn as sns\n",
    "import pandas as pd\n",
    "import sqlalchemy as sa\n",
    "import numpy as np\n",
    "import seaborn as sn\n",
    "import math\n",
    "import Orange\n",
    "import cv2"
   ]
  },
  {
   "cell_type": "markdown",
   "metadata": {},
   "source": [
    "initialize a Database, giving the username, password, server, port and the database name. Returns engine variable type"
   ]
  },
  {
   "cell_type": "markdown",
   "metadata": {},
   "source": [
    "### 2.1 deteçao de mitosis com dataset"
   ]
  },
  {
   "cell_type": "code",
   "execution_count": 2,
   "metadata": {},
   "outputs": [],
   "source": [
    "def initializeDb(username, password, server, port, database):\n",
    "    parameters = { \n",
    "               'username': username, \n",
    "               'password': password,\n",
    "               'server':   server,\n",
    "                'port' : port,\n",
    "               'database': database\n",
    "             }\n",
    "    connection = 'postgresql://{username}:{password}@{server}:{port}/{database}'.format(**parameters);\n",
    "    \n",
    "    return sa.create_engine(connection, encoding=\"utf-8\")"
   ]
  },
  {
   "cell_type": "markdown",
   "metadata": {},
   "source": [
    "- Adds new features to the given dataframe :\n",
    " - pctarea - change in percentage of area comparing with previous frame \n",
    " - pctperimete - change in percentage of perimeter comparing with previous frame \n",
    " - pctcircularity - change in percentage of the circularity comparing with previous frame "
   ]
  },
  {
   "cell_type": "code",
   "execution_count": null,
   "metadata": {},
   "outputs": [],
   "source": [
    "def calculateNewFeatures(features):\n",
    "    features['pctarea'] = features[['id','area','areadiff','perimeter','circularity']].pct_change()['area']*100\n",
    "    features['pctperimeter'] = features[['id','area','areadiff','perimeter','circularity']].pct_change()['perimeter']*100\n",
    "    features['pctcircularity'] = features[['id','area','areadiff','perimeter','circularity']].pct_change(periods=1)['circularity']*100\n",
    "    for index, row in features.iterrows():\n",
    "        if math.isnan(row['areadiff']):\n",
    "            features.loc[index,'pctarea'] = float('nan')\n",
    "            features.loc[index,'pctperimeter'] = float('nan')\n",
    "            features.loc[index,'pctcircularity'] = float('nan')\n"
   ]
  },
  {
   "cell_type": "markdown",
   "metadata": {},
   "source": [
    "- Procedure that calculates the lowest or Highest change in a procedure with the previous frames\n",
    "- 1st for cicle creates the needed columns names for the auxiliary dataframe\n",
    "- 2nd for cicle calculates the change in percentage comparing needed frames\n",
    "- 3rd for cicle set none values to incalculate values\n",
    " - frames : defines the required number of previous frames to compare with ( 5 by default )\n",
    " - minimun : true to get the lowest change, false for the highest ( true by default )\n",
    " - feature : feature selected to study\n",
    " \n",
    " "
   ]
  },
  {
   "cell_type": "code",
   "execution_count": null,
   "metadata": {},
   "outputs": [],
   "source": [
    "def calculatePctChange(features,feature, frames=5, minimun=True):\n",
    "    columns = []\n",
    "    for i in range(1,frames):\n",
    "        columns.append(\"a\"+str(i+1));\n",
    "    d = pd.DataFrame(columns = columns)\n",
    "    for i in range(1,frames):\n",
    "        d[\"a\"+str(i+1)]= features[['id','area','areadiff','perimeter','circularity']].pct_change(periods=i+1)[feature]*100\n",
    "    d['pct'+feature] = features['pct'+feature];\n",
    "    for index, row in d.iterrows():\n",
    "        if math.isnan(row['pct'+feature]):\n",
    "            for i in range(1,frames):\n",
    "                d.loc[index,\"a\"+str(i+1)] = float('nan')\n",
    "            d.loc[index+1,\"a2\"] = float('nan')\n",
    "        for i in range(2,frames):\n",
    "            if math.isnan(row[\"a\"+str(i)]):\n",
    "                d.loc[index+1,\"a\"+str(i+1)] = float('nan')\n",
    "    if minimun:\n",
    "        features['minPct' + feature] = d.min(axis=1)\n",
    "    else:\n",
    "        features['maxPct' + feature] = d.max(axis=1)"
   ]
  },
  {
   "cell_type": "markdown",
   "metadata": {},
   "source": [
    "Add a column to the elected dataframe that shows if the cell has values in previous frames ( 5 by default)"
   ]
  },
  {
   "cell_type": "code",
   "execution_count": null,
   "metadata": {},
   "outputs": [],
   "source": [
    "def checkHistory(features, frames = 5):\n",
    "    features['historicalRecord'] = True\n",
    "    for index, row in features.iterrows():\n",
    "            for i in range (0,frames):\n",
    "                if index-i>=0:\n",
    "                    if(features.loc[index]['frame'] - features.loc[index-i]['frame'] != i or features.loc[index]['id'] !=features.loc[index-i]['id']):\n",
    "                        features.loc[index,'historicalRecord'] = False;\n",
    "                        break;\n",
    "                else:\n",
    "                    features.loc[index,'historicalRecord'] = False;\n"
   ]
  },
  {
   "cell_type": "markdown",
   "metadata": {},
   "source": [
    "add 2 new columns that stores if that is the last frame or the one before that one, using the cells table of that database to get the ground truth values"
   ]
  },
  {
   "cell_type": "code",
   "execution_count": null,
   "metadata": {},
   "outputs": [],
   "source": [
    "def labelMitosis(engine,features):\n",
    "    cells_table = pd.read_sql_query('select * from cells',con=engine);\n",
    "    features['Mitosis'] = False;\n",
    "    features['Pre-Mitosis'] = False;\n",
    "    parentid_table = cells_table.groupby(['parentid']).count()\n",
    "    parentid_table = parentid_table.loc[~(parentid_table.index == 0)]['id']\n",
    "    tmp = parentid_table.index[:]\n",
    "    for idx in tmp:\n",
    "        features.loc[((features['gt_id'] == idx) & (features['frame']  == cells_table.loc[cells_table['id'] == idx].iloc[0].dead-1)),'Pre-Mitosis'] = True\n",
    "        features.loc[((features['gt_id'] == idx) & (features['frame']  == cells_table.loc[cells_table['id'] == idx].iloc[0].dead)),'Mitosis'] = True"
   ]
  },
  {
   "cell_type": "code",
   "execution_count": null,
   "metadata": {},
   "outputs": [],
   "source": [
    "def removeIncompleteCells(features):\n",
    "    df = features[features.incomplete != True];\n",
    "    df = df.drop(columns='incomplete');\n",
    "    df = df.reset_index()\n",
    "    return df;"
   ]
  },
  {
   "cell_type": "code",
   "execution_count": null,
   "metadata": {},
   "outputs": [],
   "source": [
    "def main (username,password,server,port,database,frames=5):\n",
    "   \n",
    "    engine = initializeDb(username,password,server,port,database);\n",
    "    \n",
    "    features = pd.read_sql_query('select * from features',con=engine);\n",
    "    \n",
    "    features = removeIncompleteCells(features);\n",
    "    \n",
    "    checkHistory(features);\n",
    "    \n",
    "    calculateNewFeatures(features)\n",
    "    \n",
    "    calculatePctChange(features,'area');\n",
    "    \n",
    "    calculatePctChange(features,'circularity',minimun = False);\n",
    "    #print features\n",
    "    #labelMitosis(engine,features);\n",
    "  \n",
    "    return features;"
   ]
  },
  {
   "cell_type": "code",
   "execution_count": null,
   "metadata": {},
   "outputs": [],
   "source": [
    "features = main(\"postgres\",\"postgres\",\"localhost\",5434,\"Fluo-N2DH-SIM+_GT\")\n",
    "#print features.loc(features[pre-mitosis] = True)"
   ]
  },
  {
   "cell_type": "code",
   "execution_count": null,
   "metadata": {},
   "outputs": [],
   "source": [
    "print features.loc[features['id'] == 4]"
   ]
  },
  {
   "cell_type": "code",
   "execution_count": null,
   "metadata": {},
   "outputs": [],
   "source": [
    "xpto = features.loc[(((features['minPctarea']>20)   | ((features['pctarea']>15) & (features['minPctarea']>5) & (features['pctcircularity']<1) & (features['maxPctcircularity'] < 3))) & (features['pctperimeter']>5) & (features['historicalRecord']==True))]\n",
    "print xpto[['id','frame','pctarea','pctperimeter', 'pctcircularity','minPctarea','maxPctcircularity','Pre-Mitosis']]"
   ]
  },
  {
   "cell_type": "markdown",
   "metadata": {},
   "source": [
    "## 2.2Associate cells with previous frames"
   ]
  },
  {
   "cell_type": "code",
   "execution_count": 3,
   "metadata": {},
   "outputs": [],
   "source": [
    "def main2 (username,password,server,port,database):\n",
    "   \n",
    "    return initializeDb(username,password,server,port,database);\n",
    "    \n",
    "    "
   ]
  },
  {
   "cell_type": "code",
   "execution_count": 34,
   "metadata": {},
   "outputs": [],
   "source": [
    "engine = main2(\"postgres\",\"postgres\",\"localhost\",5434,\"Fluo-N2DH-SIM+_GT\")\n",
    "\n"
   ]
  },
  {
   "cell_type": "code",
   "execution_count": 7,
   "metadata": {},
   "outputs": [],
   "source": [
    "def createTmpTable(engine,originalTable,tmpTable,col):\n",
    "    engine.execute(\"drop table %s\"%tmpTable)\n",
    "    \n",
    "    sql = \"create table %s as (\\\n",
    "    Select * from %s)\"%(tmpTable,originalTable)\n",
    "    engine.execute(sql);\n",
    "    \n",
    "    sql = \"ALTER TABLE %s \\\n",
    "    ADD COLUMN %s bigint ;\"%(tmpTable,col)\n",
    "    engine.execute(sql);\n",
    "    \n",
    "    sql = \"ALTER TABLE %s ADD COLUMN id SERIAL PRIMARY KEY;\"%(tmpTable)\n",
    "    engine.execute(sql);\n",
    "    \n",
    "    sql = \"ALTER TABLE %s ADD COLUMN parentId bigint\"%(tmpTable)\n",
    "    engine.execute(sql);\n",
    "    \n",
    "createTmpTable(engine,\"lifetime\",\"lifetmp\",\"myId\")"
   ]
  },
  {
   "cell_type": "code",
   "execution_count": 8,
   "metadata": {},
   "outputs": [],
   "source": [
    "def compareCell(engine,table,frame,id):\n",
    "    sql = \"Select b.myid as cell1,St_area(b.geom) as area1, c.myid as cell2,c.id as idgenerated,St_area(c.geom) as area2,\\\n",
    "            (Select radius from ST_MinimumBoundingRadius(b.geom)),\\\n",
    "            ST_distance(ST_Centroid(b.geom),ST_Centroid(c.geom)) as centDistance,\\\n",
    "            ST_Intersects(ST_MakeValid(c.geom),ST_MakeValid(b.geom)) as l from\\\n",
    "            (select * from %s where id = %s ) as b,\\\n",
    "            (select * from %s where frame = %s) as c\"%(table,id,table,frame);\n",
    "    compare = pd.read_sql_query(sql ,con=engine)\n",
    "    #return compare.loc[(compare['l']==True) & (compare['radius'] + 5 > compare['centdistance'])]\n",
    "    return compare"
   ]
  },
  {
   "cell_type": "code",
   "execution_count": 9,
   "metadata": {},
   "outputs": [],
   "source": [
    "def compareCellInFrame(engine,table,frame,id):\n",
    "    sql = \"Select b.myid as cell1,St_area(b.geom) as area1, c.id as cell2,c.id as idgenerated,St_area(c.geom) as area2,\\\n",
    "            (Select radius from ST_MinimumBoundingRadius(b.geom)),\\\n",
    "            ST_distance(ST_Centroid(b.geom),ST_Centroid(c.geom)) as centDistance,\\\n",
    "            ST_Intersects(ST_MakeValid(c.geom),ST_MakeValid(b.geom)) as l from\\\n",
    "            (select * from %s where frame = %s ) as b,\\\n",
    "            (select * from %s where id = %s) as c\"%(table,frame,table,id);\n",
    "    compare = pd.read_sql_query(sql ,con=engine)\n",
    "    #return compare.loc[(compare['l']==True) & (compare['radius'] + 5 > compare['centdistance'])]\n",
    "    return compare"
   ]
  },
  {
   "cell_type": "code",
   "execution_count": 70,
   "metadata": {},
   "outputs": [],
   "source": [
    "def setInitialIDs(engine,cells_table,GT_table,table):\n",
    "    cells_table = pd.read_sql_query('select * from %s'%(cells_table),con=engine)\n",
    "    tmp = pd.read_sql_query('select * from %s'%(GT_table),con=engine)\n",
    "    for id in cells_table.loc[cells_table['parentid'] == 0]['id']:\n",
    "        try:\n",
    "            firstAppear = tmp[['id','frame']].loc[tmp['id']==id].sort_values(by=['frame']).iloc[0];\n",
    "            sql3 = \"select * from %s \\\n",
    "            join %s \\\n",
    "            on %s.geom = %s.geom \\\n",
    "            where %s.frame = %s and %s.frame = %s and id = %s\"%(table,GT_table,table,GT_table,GT_table,firstAppear['frame'],table,firstAppear['frame'],firstAppear['id']);\n",
    "            same = pd.read_sql_query(sql3 ,con=engine)\n",
    "            print same.cellid[0],same.id[0]\n",
    "            engine.execute(\"UPDATE %s SET myId = %s WHERE id = %s;\"%(table,same.cellid[0]+1,same.id[0]));\n",
    "        except:\n",
    "            print \"cell \" + str(id) + \" has no representation\""
   ]
  },
  {
   "cell_type": "code",
   "execution_count": 71,
   "metadata": {},
   "outputs": [],
   "source": [
    "def restartIds(engine,table):\n",
    "    sql = \"\"\"ALTER TABLE %s\n",
    "    drop COLUMN myId ;\n",
    "\n",
    "    ALTER TABLE %s\n",
    "    ADD COLUMN myId bigint not null default 0;\"\"\"%(table,table)\n",
    "    engine.execute(sql);\n",
    "restartIds(engine,\"lifetmp\");"
   ]
  },
  {
   "cell_type": "code",
   "execution_count": 12,
   "metadata": {},
   "outputs": [],
   "source": [
    "def calculateNumberOfMitosis(engine):\n",
    "    cellsGT = pd.read_sql_query('Select * from cells',con=engine);\n",
    "    mitosis = cellsGT.groupby(['parentid']).count()\n",
    "    return mitosis.loc[mitosis.id == 2].size/3"
   ]
  },
  {
   "cell_type": "code",
   "execution_count": 73,
   "metadata": {},
   "outputs": [],
   "source": [
    "def setInitialIDs(engine,table):\n",
    "    engine.execute(\"UPDATE %s SET myId = cellid+1 WHERE frame = 0;\"%(table));"
   ]
  },
  {
   "cell_type": "code",
   "execution_count": 27,
   "metadata": {},
   "outputs": [],
   "source": [
    "def labelMitosis(engine,table,parent,child1,child2):\n",
    "    df = pd.read_sql_query('select * from %s'%(table),con=engine);\n",
    "    maxId = df.nlargest(1, ['myid']).myid \n",
    "    engine.execute(\"UPDATE lifetmp SET myId = %s WHERE id = %s;\"%((int(maxId)+1),child1));\n",
    "    engine.execute(\"UPDATE lifetmp SET myId = %s WHERE id = %s;\"%((int(maxId)+2),child2));\n",
    "    engine.execute(\"UPDATE lifetmp SET parentId = %s WHERE id = %s or id = %s;\"%(parent,child1,child2));"
   ]
  },
  {
   "cell_type": "markdown",
   "metadata": {},
   "source": [
    "def labelMitosis(engine,table,parent,child1,child2):\n",
    "    if parent<100:\n",
    "        engine.execute(\"UPDATE lifetmp SET myId = %s WHERE id = %s;\"%((parent+100),child1));\n",
    "        engine.execute(\"UPDATE lifetmp SET myId = %s WHERE id = %s;\"%((parent+200),child2));\n",
    "    else:\n",
    "        engine.execute(\"UPDATE lifetmp SET myId = %s WHERE id = %s;\"%((parent+10**(len(str(parent/100))+2)),child1));\n",
    "        engine.execute(\"UPDATE lifetmp SET myId = %s WHERE id = %s;\"%((parent+2*10**(len(str(parent/100))+2)),child2));"
   ]
  },
  {
   "cell_type": "code",
   "execution_count": 80,
   "metadata": {},
   "outputs": [],
   "source": [
    "def CorrespondCells(engine,table):\n",
    "    lifeTmp = pd.read_sql_query('select * from %s'%(table),con=engine);\n",
    "    frames = lifeTmp['frame'].nunique();\n",
    "    #lastId = lifeTmp['gt_id'].nunique()\n",
    "    \n",
    "    missingVal = [];\n",
    "    mitosisFrame = [];\n",
    "    for i in range(1,frames):\n",
    "        j = [];\n",
    "        l = lifeTmp.loc[(lifeTmp['frame'] ==  i-1)];\n",
    "        for index,row in l.iterrows():\n",
    "            j.append(int(row.id))\n",
    "        for a in j:\n",
    "            compare = compareCell(engine,table,i,a)\n",
    "            match = compare.loc[(compare['l']==True) & (compare['radius'] + 5 > compare['centdistance'])]\n",
    "            if len(match.index) == 1:\n",
    "                engine.execute(\"UPDATE lifetmp SET myId = %s WHERE id = %s;\"%(match.cell1.iloc[0],match.idgenerated.iloc[0]));\n",
    "            elif len(match.index) == 2:\n",
    "                labelMitosis(engine,table,match.cell1.iloc[0],match.idgenerated.iloc[0],match.idgenerated.iloc[1])\n",
    "                \n",
    "            else:\n",
    "                print(a,i)\n",
    "                print(len(match.index))\n",
    "        \n",
    "        cellsWithoutMatch = pd.read_sql_query('select * from %s where frame = %d and myid = 0'%(table,i),con=engine);\n",
    "        if len(cellsWithoutMatch) > 0:\n",
    "            for index1,row1 in cellsWithoutMatch.iterrows():\n",
    "                closeValue = compareCellInFrame(engine,table,i-1,row1.id).sort_values(\"centdistance\").iloc[0]\n",
    "                if closeValue.centdistance < closeValue.radius*3:\n",
    "                    child1 = pd.read_sql_query('select * from %s where frame = %d and myid = %d'%(table,i,closeValue.cell1),con=engine)\n",
    "                    if len(child1.index) == 1:\n",
    "                        labelMitosis(engine,table,closeValue.cell1,child1.iloc[0].id,row1.id);\n",
    "                    elif len(child1.index) == 0:\n",
    "                        engine.execute(\"UPDATE lifetmp SET myId = %s WHERE id = %s;\"%(closeValue.cell1,row1.id));\n",
    "                    else:\n",
    "                        print child1\n",
    "                    lifeTmp = pd.read_sql_query('select * from %s'%(table),con=engine);\n",
    "            #quit();\n",
    "        lifeTmp = pd.read_sql_query('select * from %s'%(table),con=engine);"
   ]
  },
  {
   "cell_type": "code",
   "execution_count": 81,
   "metadata": {},
   "outputs": [],
   "source": [
    "def programCycle(engine,table):\n",
    "    sql = '''select myid, inicio, fim,\n",
    "    (select DISTINCT b.myid iniciopai\n",
    "    from %s b\n",
    "    where b.myid = MOD(a.myid,100)) iniciopai\n",
    "    from\n",
    "    (select myid, min(frame) inicio, max(frame) fim\n",
    "    from lifetmp\n",
    "    group by myid) a\n",
    "    order by iniciopai asc, inicio desc'''%(table)\n",
    "\n",
    "    pgCycle = pd.read_sql_query(sql,con=engine);\n",
    "    #print pgCycle\n",
    "    return pgCycle\n"
   ]
  },
  {
   "cell_type": "code",
   "execution_count": 82,
   "metadata": {
    "scrolled": true
   },
   "outputs": [
    {
     "name": "stdout",
     "output_type": "stream",
     "text": [
      "   cell1   area1  cell2  idgenerated   area2     radius  centdistance     l\n",
      "9     30  2170.0      0         1962  2267.5  31.196955      1.469306  True\n"
     ]
    },
    {
     "ename": "AttributeError",
     "evalue": "'DataFrame' object has no attribute 'myid'",
     "output_type": "error",
     "traceback": [
      "\u001b[1;31m---------------------------------------------------------------------------\u001b[0m",
      "\u001b[1;31mAttributeError\u001b[0m                            Traceback (most recent call last)",
      "\u001b[1;32m<ipython-input-82-299f33cf1ccb>\u001b[0m in \u001b[0;36m<module>\u001b[1;34m()\u001b[0m\n\u001b[0;32m      1\u001b[0m \u001b[0mrestartIds\u001b[0m\u001b[1;33m(\u001b[0m\u001b[0mengine\u001b[0m\u001b[1;33m,\u001b[0m\u001b[1;34m\"lifetmp\"\u001b[0m\u001b[1;33m)\u001b[0m\u001b[1;33m;\u001b[0m\u001b[1;33m\u001b[0m\u001b[0m\n\u001b[0;32m      2\u001b[0m \u001b[0msetInitialIDs\u001b[0m\u001b[1;33m(\u001b[0m\u001b[0mengine\u001b[0m\u001b[1;33m,\u001b[0m\u001b[1;34m\"lifetmp\"\u001b[0m\u001b[1;33m)\u001b[0m\u001b[1;33m\u001b[0m\u001b[0m\n\u001b[1;32m----> 3\u001b[1;33m \u001b[0mCorrespondCells\u001b[0m\u001b[1;33m(\u001b[0m\u001b[0mengine\u001b[0m\u001b[1;33m,\u001b[0m\u001b[1;34m\"lifetmp\"\u001b[0m\u001b[1;33m)\u001b[0m\u001b[1;33m\u001b[0m\u001b[0m\n\u001b[0m",
      "\u001b[1;32m<ipython-input-80-97abffd4764d>\u001b[0m in \u001b[0;36mCorrespondCells\u001b[1;34m(engine, table)\u001b[0m\n\u001b[0;32m     16\u001b[0m             \u001b[1;32mprint\u001b[0m \u001b[0mmatch\u001b[0m\u001b[1;33m\u001b[0m\u001b[0m\n\u001b[0;32m     17\u001b[0m             \u001b[1;32mif\u001b[0m \u001b[0mlen\u001b[0m\u001b[1;33m(\u001b[0m\u001b[0mmatch\u001b[0m\u001b[1;33m.\u001b[0m\u001b[0mindex\u001b[0m\u001b[1;33m)\u001b[0m \u001b[1;33m==\u001b[0m \u001b[1;36m1\u001b[0m\u001b[1;33m:\u001b[0m\u001b[1;33m\u001b[0m\u001b[0m\n\u001b[1;32m---> 18\u001b[1;33m                 \u001b[0mengine\u001b[0m\u001b[1;33m.\u001b[0m\u001b[0mexecute\u001b[0m\u001b[1;33m(\u001b[0m\u001b[1;34m\"UPDATE lifetmp SET myId = %s WHERE id = %s;\"\u001b[0m\u001b[1;33m%\u001b[0m\u001b[1;33m(\u001b[0m\u001b[0mmatch\u001b[0m\u001b[1;33m.\u001b[0m\u001b[0mmyid\u001b[0m\u001b[1;33m.\u001b[0m\u001b[0miloc\u001b[0m\u001b[1;33m[\u001b[0m\u001b[1;36m0\u001b[0m\u001b[1;33m]\u001b[0m\u001b[1;33m,\u001b[0m\u001b[0mmatch\u001b[0m\u001b[1;33m.\u001b[0m\u001b[0midgenerated\u001b[0m\u001b[1;33m.\u001b[0m\u001b[0miloc\u001b[0m\u001b[1;33m[\u001b[0m\u001b[1;36m0\u001b[0m\u001b[1;33m]\u001b[0m\u001b[1;33m)\u001b[0m\u001b[1;33m)\u001b[0m\u001b[1;33m;\u001b[0m\u001b[1;33m\u001b[0m\u001b[0m\n\u001b[0m\u001b[0;32m     19\u001b[0m             \u001b[1;32melif\u001b[0m \u001b[0mlen\u001b[0m\u001b[1;33m(\u001b[0m\u001b[0mmatch\u001b[0m\u001b[1;33m.\u001b[0m\u001b[0mindex\u001b[0m\u001b[1;33m)\u001b[0m \u001b[1;33m==\u001b[0m \u001b[1;36m2\u001b[0m\u001b[1;33m:\u001b[0m\u001b[1;33m\u001b[0m\u001b[0m\n\u001b[0;32m     20\u001b[0m                 \u001b[0mlabelMitosis\u001b[0m\u001b[1;33m(\u001b[0m\u001b[0mengine\u001b[0m\u001b[1;33m,\u001b[0m\u001b[0mtable\u001b[0m\u001b[1;33m,\u001b[0m\u001b[0mmatch\u001b[0m\u001b[1;33m.\u001b[0m\u001b[0mcell1\u001b[0m\u001b[1;33m.\u001b[0m\u001b[0miloc\u001b[0m\u001b[1;33m[\u001b[0m\u001b[1;36m0\u001b[0m\u001b[1;33m]\u001b[0m\u001b[1;33m,\u001b[0m\u001b[0mmatch\u001b[0m\u001b[1;33m.\u001b[0m\u001b[0midgenerated\u001b[0m\u001b[1;33m.\u001b[0m\u001b[0miloc\u001b[0m\u001b[1;33m[\u001b[0m\u001b[1;36m0\u001b[0m\u001b[1;33m]\u001b[0m\u001b[1;33m,\u001b[0m\u001b[0mmatch\u001b[0m\u001b[1;33m.\u001b[0m\u001b[0midgenerated\u001b[0m\u001b[1;33m.\u001b[0m\u001b[0miloc\u001b[0m\u001b[1;33m[\u001b[0m\u001b[1;36m1\u001b[0m\u001b[1;33m]\u001b[0m\u001b[1;33m)\u001b[0m\u001b[1;33m\u001b[0m\u001b[0m\n",
      "\u001b[1;32mC:\\Python27\\lib\\site-packages\\pandas\\core\\generic.pyc\u001b[0m in \u001b[0;36m__getattr__\u001b[1;34m(self, name)\u001b[0m\n\u001b[0;32m   5065\u001b[0m             \u001b[1;32mif\u001b[0m \u001b[0mself\u001b[0m\u001b[1;33m.\u001b[0m\u001b[0m_info_axis\u001b[0m\u001b[1;33m.\u001b[0m\u001b[0m_can_hold_identifiers_and_holds_name\u001b[0m\u001b[1;33m(\u001b[0m\u001b[0mname\u001b[0m\u001b[1;33m)\u001b[0m\u001b[1;33m:\u001b[0m\u001b[1;33m\u001b[0m\u001b[0m\n\u001b[0;32m   5066\u001b[0m                 \u001b[1;32mreturn\u001b[0m \u001b[0mself\u001b[0m\u001b[1;33m[\u001b[0m\u001b[0mname\u001b[0m\u001b[1;33m]\u001b[0m\u001b[1;33m\u001b[0m\u001b[0m\n\u001b[1;32m-> 5067\u001b[1;33m             \u001b[1;32mreturn\u001b[0m \u001b[0mobject\u001b[0m\u001b[1;33m.\u001b[0m\u001b[0m__getattribute__\u001b[0m\u001b[1;33m(\u001b[0m\u001b[0mself\u001b[0m\u001b[1;33m,\u001b[0m \u001b[0mname\u001b[0m\u001b[1;33m)\u001b[0m\u001b[1;33m\u001b[0m\u001b[0m\n\u001b[0m\u001b[0;32m   5068\u001b[0m \u001b[1;33m\u001b[0m\u001b[0m\n\u001b[0;32m   5069\u001b[0m     \u001b[1;32mdef\u001b[0m \u001b[0m__setattr__\u001b[0m\u001b[1;33m(\u001b[0m\u001b[0mself\u001b[0m\u001b[1;33m,\u001b[0m \u001b[0mname\u001b[0m\u001b[1;33m,\u001b[0m \u001b[0mvalue\u001b[0m\u001b[1;33m)\u001b[0m\u001b[1;33m:\u001b[0m\u001b[1;33m\u001b[0m\u001b[0m\n",
      "\u001b[1;31mAttributeError\u001b[0m: 'DataFrame' object has no attribute 'myid'"
     ]
    }
   ],
   "source": [
    "restartIds(engine,\"lifetmp\");\n",
    "setInitialIDs(engine,\"lifetmp\")\n",
    "CorrespondCells(engine,\"lifetmp\")"
   ]
  },
  {
   "cell_type": "code",
   "execution_count": null,
   "metadata": {},
   "outputs": [],
   "source": [
    "def getProgramLifeCycle(engine,table):\n",
    "    cycle = programCycle(engine,table)\n",
    "    tmp = cycle.groupby(['iniciopai']).apply(lambda x: x['fim'].values)\n",
    "    df = tmp.to_frame()  \n",
    "    df2 = pd.DataFrame( columns=['id2','deaths']);\n",
    "    columns = list(df2)\n",
    "    data2 = [];\n",
    "    for index, row in df.iterrows():\n",
    "        a = row[0].tolist()\n",
    "        a.append(cycle.loc[cycle.myid==row.name].inicio.iloc[0])\n",
    "        a.sort()\n",
    "        if index > 0:\n",
    "            values = [index,[int(v) for v in a ]];\n",
    "            zipped = zip(columns, values)\n",
    "            a_dictionary = dict(zipped)\n",
    "            data2.append(a_dictionary)\n",
    "\n",
    "    df2 = df2.append(data2,True)\n",
    "    return df2\n",
    "lifeCycle = getProgramLifeCycle(engine,\"lifetmp\")\n",
    "print lifeCycle"
   ]
  },
  {
   "cell_type": "code",
   "execution_count": null,
   "metadata": {},
   "outputs": [],
   "source": [
    "def getAllDeathFrames(id,table,arr):\n",
    "    arr.append(id)\n",
    "    sons = table.loc[table['parentid']==id].id.unique();\n",
    "    if sons.size > 0:\n",
    "        for a in sons:\n",
    "            getAllDeathFrames(a,table,arr)\n",
    "    else:\n",
    "        return arr\n",
    "    return arr"
   ]
  },
  {
   "cell_type": "code",
   "execution_count": null,
   "metadata": {
    "scrolled": true
   },
   "outputs": [],
   "source": [
    "def getGTLifeCycle(engine,cellsTable):\n",
    "    cellsGT = pd.read_sql_query('select * from %s'%(cellsTable),con=engine)\n",
    "    df = pd.DataFrame( columns=['id','deaths']);\n",
    "    columns = list(df)\n",
    "    data = [];\n",
    "    initCells = cellsGT.loc[cellsGT['parentid']==0].id.unique();\n",
    "\n",
    "    for cell in initCells:\n",
    "        family = getAllDeathFrames(cell,cellsGT,[]);\n",
    "        deaths = cellsGT.loc[cellsGT['id'].isin(family)]['dead'];\n",
    "        a = deaths.values.tolist();\n",
    "        a.append(cellsGT.loc[cellsGT['id'] == cell]['born'].iloc[0])\n",
    "        a.sort();\n",
    "        values = [cell,[int(v) for v in a ]];\n",
    "        zipped = zip(columns, values)\n",
    "        a_dictionary = dict(zipped)\n",
    "        data.append(a_dictionary)\n",
    "    df = df.append(data,True)\n",
    "    return df\n",
    "GTCycle = getGTLifeCycle(engine,\"cells\")\n",
    "#print GTCycle.iloc[7].deaths"
   ]
  },
  {
   "cell_type": "code",
   "execution_count": null,
   "metadata": {},
   "outputs": [],
   "source": [
    "def compareValues(dataframe1,dataframe2):\n",
    "    data = [];\n",
    "    df = pd.DataFrame( columns=['id','id2','deaths']);\n",
    "    columns = list(df);\n",
    "    for index,row in dataframe1.iterrows():\n",
    "        for index2,row2 in dataframe2.iterrows():\n",
    "            try:\n",
    "            #(np.isin(np.array(dataframe1['deaths'][index]),np.array(dataframe2['deaths'][index2]))).all() and len(np.array(dataframe1['deaths'][index]))    \n",
    "                test1 = np.array(dataframe1['deaths'][index])[:2];\n",
    "                test2 = np.array(dataframe2['deaths'][index2])[:2];\n",
    "                if (test1 == test2).all():\n",
    "                    values = [dataframe1['id'][index],dataframe2['id2'][index2],test1]\n",
    "                    zipped = zip(columns, values)\n",
    "                    data_dictionary = dict(zipped)\n",
    "                    data.append(data_dictionary)\n",
    "            except:\n",
    "                continue\n",
    "    \n",
    "    df = df.append(data,True)\n",
    "    return df\n",
    "print lifeCycle\n",
    "print GTCycle\n",
    "df = compareValues(GTCycle,lifeCycle)        \n",
    "print df"
   ]
  },
  {
   "cell_type": "code",
   "execution_count": null,
   "metadata": {
    "scrolled": true
   },
   "outputs": [],
   "source": [
    "def evaluateGTMitosis(dataframe):\n",
    "    mitosis = 0\n",
    "    for index,row in dataframe.iterrows():\n",
    "        if row.deaths[0] == 0:\n",
    "            mitosis += len(row.deaths)/2-1\n",
    "    print \"There are %s mitosis from initial cells\"%(mitosis)\n",
    "    return mitosis\n",
    "#evaluateGTMitosis(GTCycle)"
   ]
  },
  {
   "cell_type": "code",
   "execution_count": null,
   "metadata": {},
   "outputs": [],
   "source": [
    "def evaluateDetectedMitosis(dataframe):\n",
    "    mitosis = 0\n",
    "    for index,row in dataframe.iterrows():\n",
    "        if row.deaths[0] == 0:            \n",
    "            mitosis += len(row.deaths)/2-1\n",
    "    print \"There are %s mitosis well detected\"%(mitosis)\n",
    "    return mitosis\n",
    "#evaluateDetectedMitosis(df)"
   ]
  },
  {
   "cell_type": "code",
   "execution_count": null,
   "metadata": {},
   "outputs": [],
   "source": [
    "def getFirstGenId(id,cellsTable):\n",
    "    parent = cellsTable.loc[cellsTable.id==id].iloc[0].parentid;\n",
    "    if(parent==0):\n",
    "        return id\n",
    "    else:\n",
    "        return getFirstGenId(parent,cellsTable)"
   ]
  },
  {
   "cell_type": "code",
   "execution_count": null,
   "metadata": {},
   "outputs": [],
   "source": [
    "def createGTMitosisDf(engine,cellsTable):\n",
    "    cellsGT = pd.read_sql_query('select * from %s'%(cellsTable),con=engine)\n",
    "    mitosisdf = pd.DataFrame( columns=['firstGen','born','dead']);\n",
    "    columns = list(mitosisdf)\n",
    "    data = [];\n",
    "\n",
    "    for index,row in cellsGT.iterrows():\n",
    "        values = [getFirstGenId(row.id,cellsGT),row.born,row.dead];\n",
    "        zipped = zip(columns,values)\n",
    "        a_dictionary = dict(zipped)\n",
    "\n",
    "        tmp = cellsGT.loc[cellsGT['parentid'] == row.id]\n",
    "        if len(tmp.index) != 0:\n",
    "            data.append(a_dictionary)\n",
    "            #print \"cell %d is parent from \"%row.id,tmp.iloc[0].id,tmp.iloc[1].id\n",
    "            \n",
    "    mitosisdf = mitosisdf.append(data,True)\n",
    "    return mitosisdf"
   ]
  },
  {
   "cell_type": "code",
   "execution_count": null,
   "metadata": {},
   "outputs": [],
   "source": [
    "def createGTCellEndDf(engine,cellsTable):\n",
    "    cellsGT = pd.read_sql_query('select * from %s'%(cellsTable),con=engine)\n",
    "    apoptosisdf = pd.DataFrame( columns=['firstGen','born','dead']);\n",
    "    columns = list(apoptosisdf)\n",
    "    data = [];\n",
    "    for index,row in cellsGT.iterrows():\n",
    "        values = [getFirstGenId(row.id,cellsGT),row.born,row.dead];\n",
    "        zipped = zip(columns,values)\n",
    "        a_dictionary = dict(zipped)\n",
    "\n",
    "        tmp = cellsGT.loc[cellsGT['parentid'] == row.id]\n",
    "        if len(tmp.index) == 0:\n",
    "            #print \"cell %d has no mitosis\"%row.id\n",
    "            data.append(a_dictionary)\n",
    "    apoptosisdf = apoptosisdf.append(data,True)\n",
    "    return apoptosisdf"
   ]
  },
  {
   "cell_type": "code",
   "execution_count": null,
   "metadata": {
    "scrolled": false
   },
   "outputs": [],
   "source": [
    "def createProgramMitosisDf(engine,table):\n",
    "    cycle = programCycle(engine,table)\n",
    "    df = pd.DataFrame( columns=['firstGen','born','dead']);\n",
    "    columns = list(df)\n",
    "    data1 = [];\n",
    "    for index,row in cycle.iterrows():\n",
    "        values = [row.myid%100,row.inicio,row.fim];\n",
    "        zipped = zip(columns,values)\n",
    "        a_dictionary = dict(zipped)\n",
    "        if row.myid>100: \n",
    "            val = 10**(len(str(row.myid/100))+2)\n",
    "        else:\n",
    "            val = 100\n",
    "        tmp = cycle.loc[(((cycle['myid']/val) > 1) & (cycle['myid']%val==row.myid))]['myid']\n",
    "        if len(tmp.index) > 0:\n",
    "            data1.append(a_dictionary)\n",
    "    df = df.append(data1,True)\n",
    "    return df"
   ]
  },
  {
   "cell_type": "code",
   "execution_count": null,
   "metadata": {},
   "outputs": [],
   "source": [
    "def createProgramCellEndDf(engine,table):\n",
    "    cycle = programCycle(engine,table)\n",
    "    cellEndDf = pd.DataFrame( columns=['firstGen','born','dead']);\n",
    "    columns = list(cellEndDf)\n",
    "    data = [];\n",
    "    for index,row in cycle.iterrows():\n",
    "        values = [row.myid%100,row.inicio,row.fim];\n",
    "        zipped = zip(columns,values)\n",
    "        a_dictionary = dict(zipped)\n",
    "        if row.myid>100: \n",
    "            val = 10**(len(str(row.myid/100))+2)\n",
    "        else:\n",
    "            val = 100\n",
    "        tmp = cycle.loc[(((cycle['myid']/val) > 1) & (cycle['myid']%val==row.myid))]['myid']\n",
    "        if len(tmp.index) == 0:\n",
    "            data.append(a_dictionary)\n",
    "    cellEndDf = cellEndDf.append(data,True)\n",
    "    return cellEndDf"
   ]
  },
  {
   "cell_type": "code",
   "execution_count": 68,
   "metadata": {},
   "outputs": [],
   "source": [
    "def correspondIds(engine,df,GtDb,port,user,pw):\n",
    "    df['gtId'] = 0;\n",
    "    cells_table = pd.read_sql_query('select * from %s'%(\"cells\"),con=engine)\n",
    "    sqltst = \"select gtId,frame from (SELECT geoms.* \\\n",
    "    FROM dblink('dbname=%s port=%s user=%s password=%s', \\\n",
    "    'SELECT * FROM lifetime') \\\n",
    "    AS geoms(gtId smallint ,frame smallint , geom geometry)) as a\"%(GtDb,port,user,pw)\n",
    "    tmp = pd.read_sql_query(sqltst,con=engine)\n",
    "    for id in cells_table.loc[cells_table['parentid'] == 0]['id']:\n",
    "        try:\n",
    "            firstAppear = tmp.loc[tmp['gtid']==id+1].sort_values(by=['frame']).iloc[0];\n",
    "            sql = \"Select myid, a.geom, a.gtId from lifetmp, \\\n",
    "            (SELECT geoms.* \\\n",
    "            FROM dblink('dbname=%s port=%s user=%s password=%s', \\\n",
    "            'SELECT * FROM lifetime where cellid = %s and frame = %s') \\\n",
    "            AS geoms(gtId smallint ,frame smallint , geom geometry)) as a \\\n",
    "            where ST_Contains(lifetmp.geom,ST_centroid(a.geom)) and lifetmp.frame = %s order by cellid\"%(GtDb,port,user,pw,firstAppear.gtid,firstAppear.frame,firstAppear.frame)        \n",
    "            tmp2 = pd.read_sql_query(sql,con=engine);\n",
    "            \n",
    "            if tmp2.iloc[0].myid<100 and tmp2.iloc[0].myid != 0 and cells_table.loc[cells_table['id']==firstAppear.gtid]['born'].iloc[0]==0:\n",
    "            \n",
    "            #if firstAppear.frame == 0:\n",
    "            \n",
    "                df.loc[df['firstGen'] == tmp2.iloc[0].myid, 'gtId'] = firstAppear.gtid\n",
    "\n",
    "        except:\n",
    "            print \"cell \" + str(id) + \" doesn't appear\"\n",
    "    \n",
    "    return df.loc[df['gtId'] != 0];"
   ]
  },
  {
   "cell_type": "code",
   "execution_count": null,
   "metadata": {},
   "outputs": [],
   "source": [
    "def totalTrueM(gtDf,programDf):\n",
    "    count = 0;\n",
    "    for index,row in gtDf.iterrows():\n",
    "        if len(programDf.loc[programDf['gtId'] == row.firstGen])>0:\n",
    "            count+=1;\n",
    "    return count"
   ]
  },
  {
   "cell_type": "code",
   "execution_count": null,
   "metadata": {},
   "outputs": [],
   "source": [
    "def totalTrueA(gtDf,programDf):\n",
    "    count = 0;\n",
    "    lastFrame = gtDf.loc[gtDf['dead']==gtDf['dead'].max()]['dead'].iloc[0]\n",
    "    for index,row in gtDf.iterrows():\n",
    "        if len(programDf.loc[programDf['gtId'] == row.firstGen])>0 and row.dead <lastFrame:\n",
    "            count+=1;\n",
    "    return count"
   ]
  },
  {
   "cell_type": "code",
   "execution_count": null,
   "metadata": {
    "scrolled": true
   },
   "outputs": [],
   "source": [
    "def totalTruePositivesM(gtDf,programDf):\n",
    "    tmp = gtDf.groupby(['born','dead']).sum().reset_index()\n",
    "    wellDetected = 0\n",
    "    for index,row in tmp.iterrows():\n",
    "        a = gtDf.loc[((gtDf['born']==row.born) & (gtDf['dead']==row.dead))]\n",
    "        b = programDf.loc[((programDf['born']==row.born) & (programDf['dead']==row.dead))]\n",
    "        \n",
    "        \n",
    "        if len(b)>0:\n",
    "            for index1,row1 in b.iterrows():\n",
    "                if(len(a.loc[(a['firstGen']==row1.gtId) ])>0):\n",
    "                    wellDetected += 1;\n",
    "    return wellDetected"
   ]
  },
  {
   "cell_type": "code",
   "execution_count": null,
   "metadata": {},
   "outputs": [],
   "source": [
    "def totalTruePositivesA(gtDf,programDf):\n",
    "    tmp = gtDf.groupby(['born','dead']).sum().reset_index()\n",
    "    wellDetected = 0\n",
    "    lastFrame = gtDf.loc[gtDf['dead']==gtDf['dead'].max()]['dead'].iloc[0]\n",
    "    for index,row in tmp.iterrows():\n",
    "        a = gtDf.loc[((gtDf['born']==row.born) & (gtDf['dead']==row.dead))]\n",
    "        b = programDf.loc[((programDf['born']==row.born) & (programDf['dead']==row.dead))]\n",
    "        \n",
    "        \n",
    "        if len(b)>0:\n",
    "            for index1,row1 in b.iterrows():\n",
    "                if(len(a.loc[(a['firstGen']==row1.gtId) & (a['dead']<lastFrame)])>0):\n",
    "                    wellDetected += 1;\n",
    "    return wellDetected"
   ]
  },
  {
   "cell_type": "code",
   "execution_count": null,
   "metadata": {},
   "outputs": [],
   "source": [
    "def totalFalseNegativesM(gtDf,programDf):\n",
    "    return totalTrueM(gtDf,programDf)-totalTruePositivesM(gtDf,programDf);"
   ]
  },
  {
   "cell_type": "code",
   "execution_count": null,
   "metadata": {},
   "outputs": [],
   "source": [
    "def totalFalseNegativesA(gtDf,programDf):\n",
    "    return totalTrueA(gtDf,programDf)-totalTruePositivesA(gtDf,programDf);"
   ]
  },
  {
   "cell_type": "code",
   "execution_count": null,
   "metadata": {},
   "outputs": [],
   "source": [
    "def totalFalsePositivesM(gtDf,programDf):\n",
    "    return len(programDf.loc[programDf['gtId'] != 0])- totalTruePositivesM(gtDf,programDf)"
   ]
  },
  {
   "cell_type": "code",
   "execution_count": null,
   "metadata": {},
   "outputs": [],
   "source": [
    "def totalFalsePositivesA(gtDf,programDf):\n",
    "    lastFrame = gtDf.loc[gtDf['dead']==gtDf['dead'].max()]['dead'].iloc[0]\n",
    "    return len(programDf.loc[(programDf['gtId'] != 0) & (programDf['dead']<lastFrame)])- totalTruePositivesA(gtDf,programDf)"
   ]
  },
  {
   "cell_type": "code",
   "execution_count": null,
   "metadata": {},
   "outputs": [],
   "source": [
    "def totalTrueNegativesM(GTCellEndDf,programDf):\n",
    "    tmp = GTCellEndDf.groupby(['born','dead']).sum().reset_index()\n",
    "    wellDetected = 0\n",
    "    for index,row in tmp.iterrows():\n",
    "        a = GTCellEndDf.loc[((GTCellEndDf['born']==row.born) & (GTCellEndDf['dead']==row.dead))]\n",
    "        b = programDf.loc[((programDf['born']==row.born) & (programDf['dead']==row.dead))]\n",
    "        \n",
    "        \n",
    "        if len(b)>0:\n",
    "            for index1,row1 in b.iterrows():\n",
    "                if(len(a.loc[(a['firstGen']==row1.gtId) ])>0):\n",
    "                    wellDetected += 1;\n",
    "            #possibleWellDetected += min(len(b.loc[b['gtId']==0]),len(a))\n",
    "    return wellDetected"
   ]
  },
  {
   "cell_type": "code",
   "execution_count": null,
   "metadata": {},
   "outputs": [],
   "source": [
    "def showConfusionMatrix(arr,name):\n",
    "    cm = arr\n",
    "    ax = sn.heatmap(cm, annot=True,yticklabels=[\"P\",\"N\"],xticklabels=['P','N'],vmax=-1,linewidths=5,fmt='d')\n",
    "    ax.set(ylabel='Predicted', xlabel='Ground Truth')\n",
    "    ax.xaxis.set_label_position('top') \n",
    "    ax.xaxis.tick_top()\n",
    "    figure = ax.get_figure();    \n",
    "    figure.savefig(name+'.png', dpi=400)"
   ]
  },
  {
   "cell_type": "code",
   "execution_count": 69,
   "metadata": {},
   "outputs": [],
   "source": [
    "engine = main2(\"postgres\",\"postgres\",\"localhost\",5434,\"Fluo-N2DH-SIM+_GT\")"
   ]
  },
  {
   "cell_type": "code",
   "execution_count": null,
   "metadata": {},
   "outputs": [],
   "source": [
    "def evaluateMitosisStats(engine):\n",
    "    db = \"Fluo-N2DH-SIM+\";\n",
    "    gtDf = createGTMitosisDf(engine,\"cells\");\n",
    "    programMitosisDf = createProgramMitosisDf(engine,\"lifetmp\");\n",
    "    programMitosisDf = correspondIds(engine,programMitosisDf,db,5434,\"postgres\",\"postgres\")\n",
    "    #gtCellEndDf = createGTCellEndDf(engine,\"cells\");\n",
    "    TP = totalTruePositivesM(gtDf,programMitosisDf)\n",
    "    FN = totalFalseNegativesM(gtDf,programMitosisDf)\n",
    "    FP = totalFalsePositivesM(gtDf,programMitosisDf)\n",
    "    arr = [[TP,FP],[FN,0]];\n",
    "    showConfusionMatrix(arr,db+'(Mitosis2)')\n",
    "evaluateMitosisStats(engine)"
   ]
  },
  {
   "cell_type": "code",
   "execution_count": null,
   "metadata": {},
   "outputs": [],
   "source": [
    "def evaluateApoptosisStats(engine):\n",
    "    db = \"Fluo-N2DL-HeLa\";\n",
    "    gtDf = createGTCellEndDf(engine,\"cells\");\n",
    "    programDf = createProgramCellEndDf(engine,\"lifetmp\");\n",
    "    programDf = correspondIds(engine,programDf,db,5434,\"postgres\",\"postgres\")\n",
    "    #gtCellEndDf = createGTCellEndDf(engine,\"cells\");\n",
    "    TP = totalTruePositivesA(gtDf,programDf)\n",
    "    FN = totalFalseNegativesA(gtDf,programDf)\n",
    "    FP = totalFalsePositivesA(gtDf,programDf)\n",
    "    arr = [[TP,FP],[FN,0]];\n",
    "    showConfusionMatrix(arr,db+'(Apoptosis)')\n",
    "evaluateApoptosisStats(engine)"
   ]
  },
  {
   "cell_type": "code",
   "execution_count": null,
   "metadata": {},
   "outputs": [],
   "source": [
    "totalFalsePositivesM(gtCellEndDf,programDf)"
   ]
  },
  {
   "cell_type": "code",
   "execution_count": null,
   "metadata": {},
   "outputs": [],
   "source": [
    "gtCellEndDf.loc[gtCellEndDf['dead'].idxmax()]"
   ]
  },
  {
   "cell_type": "code",
   "execution_count": null,
   "metadata": {},
   "outputs": [],
   "source": [
    "gtCellEndDf.loc[gtCellEndDf['dead']==gtCellEndDf['dead'].max()]['dead'].iloc[0]"
   ]
  },
  {
   "cell_type": "code",
   "execution_count": null,
   "metadata": {},
   "outputs": [],
   "source": [
    "totalTrueA(gtCellEndDf,programDf)"
   ]
  },
  {
   "cell_type": "code",
   "execution_count": null,
   "metadata": {},
   "outputs": [],
   "source": [
    "totalTruePositivesM(gtCellEndDf,programDf)"
   ]
  },
  {
   "cell_type": "code",
   "execution_count": null,
   "metadata": {},
   "outputs": [],
   "source": [
    "\n",
    "df = createProgramMitosisDf(engine,\"lifetmp\")\n",
    "print df\n",
    "df['gtId'] = 0;\n",
    "cells_table = pd.read_sql_query('select * from %s'%(\"cells\"),con=engine)\n",
    "#tmp = pd.read_sql_query('select id,frame from %s'%(GT_table),con=engine)\n",
    "sqltst = \"select gtId,frame from (SELECT geoms.* \\\n",
    "FROM dblink('dbname=%s port=%s user=%s password=%s', \\\n",
    "'SELECT * FROM lifetime') \\\n",
    "AS geoms(gtId smallint ,frame smallint , geom geometry)) as a\"%(\"Fluo-N2DH-SIM+2\",5434,\"postgres\",\"postgres\")\n",
    "tmp = pd.read_sql_query(sqltst,con=engine)\n",
    "for id in cells_table.loc[cells_table['parentid'] == 0]['id']:\n",
    "    try:\n",
    "        firstAppear = tmp.loc[tmp['gtid']==id].sort_values(by=['frame']).iloc[0];\n",
    "        sql = \"Select myid, a.geom, a.gtId from lifetmp, \\\n",
    "        (SELECT geoms.* \\\n",
    "        FROM dblink('dbname=%s port=%s user=%s password=%s', \\\n",
    "        'SELECT * FROM lifetime where cellid = %s and frame = %s') \\\n",
    "        AS geoms(gtId smallint ,frame smallint , geom geometry)) as a \\\n",
    "        where ST_Contains(lifetmp.geom,ST_centroid(a.geom)) and lifetmp.frame = %s order by cellid\"%(\"Fluo-N2DH-SIM+2\",5434,\"postgres\",\"postgres\",firstAppear.gtid,firstAppear.frame,firstAppear.frame)\n",
    "        #print sql\n",
    "        tmp2 = pd.read_sql_query(sql,con=engine);\n",
    "        if tmp2.iloc[0].myid<100 and tmp2.iloc[0].myid != 0:\n",
    "            df.loc[df['firstGen'] == tmp2.iloc[0].myid, 'gtId'] = firstAppear.gtid\n",
    "        print tmp2.iloc[0].myid,firstAppear.gtid,firstAppear.frame\n",
    "\n",
    "    except:\n",
    "        print \"what\";\n",
    "    \n",
    "print df"
   ]
  },
  {
   "cell_type": "code",
   "execution_count": null,
   "metadata": {},
   "outputs": [],
   "source": [
    "\n",
    "cells_table = pd.read_sql_query('select * from %s'%(\"cells\"),con=engine)\n",
    "tmp = pd.read_sql_query('select * from %s'%(\"lifetime\"),con=engine)\n",
    "for id in cells_table.loc[cells_table['parentid'] == 0]['id']:\n",
    "    try:\n",
    "        firstAppear = tmp[['id','frame']].loc[tmp['id']==id].sort_values(by=['frame']).iloc[0];\n",
    "        sql3 = \"select * from %s \\\n",
    "        join %s \\\n",
    "        on %s.geom = %s.geom \\\n",
    "        where %s.frame = %s and %s.frame = %s and id = %s\"%(table,GT_table,table,GT_table,GT_table,firstAppear['frame'],table,firstAppear['frame'],firstAppear['id']);\n",
    "        same = pd.read_sql_query(sql3 ,con=engine)\n",
    "        print same.cellid[0],same.id[0]\n",
    "        engine.execute(\"UPDATE %s SET myId = %s WHERE id = %s;\"%(table,same.cellid[0],same.id[0]));\n",
    "    except:\n",
    "        print \"cell \" + str(id) + \" has no representation\""
   ]
  },
  {
   "cell_type": "code",
   "execution_count": null,
   "metadata": {},
   "outputs": [],
   "source": [
    "sql = \"Select cellid, a.geom, a.gtId from lifetime, \\\n",
    "(SELECT geoms.* \\\n",
    "FROM dblink('dbname=%s port=%s user=%s password=%s', \\\n",
    "'SELECT * FROM lifetime where frame = 0') \\\n",
    "AS geoms(gtId smallint ,frame smallint , geom geometry)) as a \\\n",
    "where ST_Contains(lifetime.geom,ST_centroid(a.geom)) and lifetime.frame = 0 order by cellid\"%(GtDb,port,user,pw)\n",
    "\n",
    "tmp = pd.read_sql_query(sql,con=engine)\n",
    "programDf['gtId'] = 0\n",
    "for index,row in tmp.iterrows():\n",
    "    programDf.loc[programDf['firstGen'] == row.cellid, 'gtId'] = row.gtid\n",
    "return programDf"
   ]
  },
  {
   "cell_type": "code",
   "execution_count": 77,
   "metadata": {},
   "outputs": [],
   "source": [
    "def createRes_track(engine,table,path):\n",
    "    engine.execute(\"UPDATE %s set parentid = 0 where frame = 0\"%(table))\n",
    "    \n",
    "    sql = '''select myid, inicio, fim, parentid\n",
    "    from\n",
    "    (select lifetmp.myid, min(frame) inicio, max(frame) fim, b.parentid parentid\n",
    "    from %s \n",
    "    JOIN\n",
    "    (select myid, parentid from lifetmp where parentid is not null) as b\n",
    "    on lifetmp.myid = b.myid\n",
    "    where lifetmp.myid != 0 \n",
    "    group by lifetmp.myid,b.parentid) a\n",
    "    order by myid'''%(table)\n",
    "    newId = 1;\n",
    "    pgCycle = pd.read_sql_query(sql,con=engine);\n",
    "    pgCycle[\"myid\"] = pgCycle.myid.apply(lambda x: x+100)\n",
    "    \n",
    "    #TESTES - apenas 5 frames\n",
    "    pgCycle.loc[pgCycle['fim']>5, 'fim'] = 5\n",
    "    pgCycle = pgCycle.drop(pgCycle[pgCycle.fim<pgCycle.inicio].index)\n",
    "    path += \"res_track.txt\"\n",
    "    pgCycle.to_csv(path,sep=' ', index=False, header=False)\n",
    "createRes_track(engine,\"lifetmp\",\"RES\\\\\")"
   ]
  },
  {
   "cell_type": "code",
   "execution_count": 67,
   "metadata": {},
   "outputs": [],
   "source": [
    "data = pd.read_csv('GT\\\\man_track.txt', sep=\" \", header=None)\n",
    "data.columns = [\"myid\", \"inicio\", \"fim\", \"parentid\"]\n",
    "data.loc[data['fim']>5, 'fim'] = 5\n",
    "data = data.drop(data[data.fim<data.inicio].index)\n",
    "data.to_csv('GT\\\\man_track.txt',sep=' ', index=False, header=False)"
   ]
  },
  {
   "cell_type": "code",
   "execution_count": null,
   "metadata": {},
   "outputs": [],
   "source": []
  }
 ],
 "metadata": {
  "kernelspec": {
   "display_name": "Python 2",
   "language": "python",
   "name": "python2"
  },
  "language_info": {
   "codemirror_mode": {
    "name": "ipython",
    "version": 2
   },
   "file_extension": ".py",
   "mimetype": "text/x-python",
   "name": "python",
   "nbconvert_exporter": "python",
   "pygments_lexer": "ipython2",
   "version": "2.7.16"
  }
 },
 "nbformat": 4,
 "nbformat_minor": 2
}
