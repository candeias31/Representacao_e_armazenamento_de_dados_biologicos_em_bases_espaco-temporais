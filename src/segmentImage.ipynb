{
 "cells": [
  {
   "cell_type": "markdown",
   "metadata": {},
   "source": [
    "This script needs to run in a computer with ImageJ installed with the plugin \"Auto_Threshold\" (latest verion tested 1.17.2)\n",
    "\n",
    "Note : Relative path to the macro, only works if ImageJ isn't open, otherwise it uses the Macro folder from ImageJ as the current directory"
   ]
  },
  {
   "cell_type": "code",
   "execution_count": 60,
   "metadata": {},
   "outputs": [],
   "source": [
    "import os\n",
    "import sqlalchemy as sa\n",
    "import pandas as pd\n",
    "import cv2\n",
    "import numpy as np\n",
    "import re\n",
    "from PIL import Image"
   ]
  },
  {
   "cell_type": "markdown",
   "metadata": {},
   "source": [
    "function that translate the treatment given to the image after the threshold, depending on type"
   ]
  },
  {
   "cell_type": "code",
   "execution_count": 2,
   "metadata": {},
   "outputs": [],
   "source": [
    "def returnType(treatment):\n",
    "    type0 = \"\";\n",
    "    \n",
    "    type1 = \"\"\"run(\"Close-\");\\n\"\"\";\n",
    "    \n",
    "    type2 = \"\"\"run(\"Open\");\\n\"\"\"; \n",
    "    \n",
    "    type3 = \"\"\"run(\"Erode\");\\n\"\"\"\n",
    "    \n",
    "    type4 = \"\"\"run(\"Dilate\");\\n\"\"\"\n",
    "    \n",
    "    type5 = type1+type2;\n",
    "    \n",
    "    type6 = type2+type1;\n",
    "    \n",
    "    types = [type0,type1,type2,type3,type4,type5,type6]\n",
    "    return (types[treatment])"
   ]
  },
  {
   "cell_type": "markdown",
   "metadata": {},
   "source": [
    "fuction that creates the macro that does the changes needed to all images from the given dataset and returns the path to the created macro:\n",
    "    - src : specify the original dataset directory path\n",
    "    - dest : specify the directory path to the new dataset\n",
    "    - method : Threshold method \n",
    "    - treatment : pre-defined set of changes to make after the threshold algorithm\n",
    "    - filename : substring of original images before the image number\n",
    "    - changeback : switch the background with the foreground color before make the defined changes. (default = True)"
   ]
  },
  {
   "cell_type": "code",
   "execution_count": 3,
   "metadata": {},
   "outputs": [],
   "source": [
    "def createMacro(src, dest,method,treatment,fileName,changeBack=True):\n",
    "    try: \n",
    "        os.makedirs(dest)\n",
    "    except OSError:\n",
    "        if not os.path.isdir(dest):\n",
    "            raise\n",
    "    dirPath = dest+\"\\\\\"+method+str(treatment);\n",
    "    os.mkdir(dirPath)\n",
    "    \n",
    "    files = os.listdir(src);\n",
    "    frames = sum(1 for file in files if file.endswith(\".tif\"))\n",
    "    \n",
    "    source = src.replace(\"\\\\\",\"/\");\n",
    "    dirPath +=\"/\"\n",
    "    dirPath = dirPath.replace(\"\\\\\",\"/\");\n",
    "    dirPath = dirPath.replace(\"\\0\",\"\\\\0\")\n",
    "    macro = \"\"\"for(i=0;i<{frames};i++){{\n",
    "    if(i<10){{\n",
    "    fileTif = \"{fileName}00\"+i+\".tif\";}}\n",
    "    else if(i<100){{\n",
    "    fileTif = \"{fileName}0\"+i+\".tif\";}}\n",
    "    else{{\n",
    "    fileTif = \"{fileName}\"+i+\".tif\";}}\n",
    "    open(\"{source}\"+fileTif);\n",
    "    run(\"16-bit\");\"\"\".format(frames=(frames),fileName=fileName,source=source,destination=dirPath)\n",
    "    if method:\n",
    "        macro+=\"\"\"run(\"Auto Threshold...\", \"method={method}\")\"\"\".format(method=method)\n",
    "\n",
    "    if(changeBack):\n",
    "        macro += \"\"\"setOption(\"BlackBackground\", true);\n",
    "        run(\"Convert to Mask\");\n",
    "        \"\"\";\n",
    "    macro += str(returnType(treatment));\n",
    "    if(changeBack):\n",
    "        macro += \"\"\"setAutoThreshold(\"Default dark\");\n",
    "        \"\"\";\n",
    "    macro += \"\"\"saveAs(\"Tiff\", \"{destination}\"+fileTif);\n",
    "    close();\n",
    "    }}\n",
    "    \"\"\".format(frames=frames,fileName=fileName,source=source,destination=dirPath,method=method)\n",
    "    macroPath = dirPath+\"macro.ijm\"\n",
    "    f = open(macroPath,'w');\n",
    "    f.write(macro);\n",
    "    f.close();\n",
    "    return macroPath;\n",
    "    "
   ]
  },
  {
   "cell_type": "code",
   "execution_count": null,
   "metadata": {},
   "outputs": [],
   "source": [
    "def main():\n",
    "    src = \"..\\\\Datasets\\\\TrackingChallenge\\\\Fluo-N2DH-SIM+\\\\01_GT\\\\TRA\\\\segmented\\\\0\\\\\";\n",
    "    dest = \"..\\\\Datasets\\\\TrackingChallenge\\\\Fluo-N2DH-SIM+\\\\01_GT\\\\TRA\\\\segmented\\\\0\\\\0\\\\\";\n",
    "    method = \"\"\n",
    "    treatment = 0;\n",
    "    fileName = \"mask\"\n",
    "    macroPath = createMacro(src,dest,method,treatment,fileName,False)\n",
    "    imageJdir = \"C:\\Users\\cool_\\Documents\\ImageJ\\ImageJ.exe\";\n",
    "    \n",
    "    cmd = 'cmd /c \\\"\"'+ imageJdir + '\" -macro \\\"' + macroPath + '\\\"\"';\n",
    "    os.system(cmd);\n",
    "\n",
    "main()"
   ]
  },
  {
   "cell_type": "markdown",
   "metadata": {},
   "source": [
    "rename all images name to a format like name + number with 3 digits + \".tif\""
   ]
  },
  {
   "cell_type": "code",
   "execution_count": null,
   "metadata": {},
   "outputs": [],
   "source": [
    "def renameImages(src,name):\n",
    "    i=0;\n",
    "    for file in os.listdir(src):\n",
    "        os.rename(src+file,src+name+\"{:03.0f}.tif\".format(i));\n",
    "        i +=1;\n",
    "\n",
    "src = \"..\\\\Datasets\\\\TrackingChallenge\\\\Fluo-N2DH-SIM+\\\\01_GT\\\\TRA\\\\segmented\\\\0\\\\0\\\\0\\\\\";\n",
    "renameImages(src,\"mask\")"
   ]
  },
  {
   "cell_type": "code",
   "execution_count": 23,
   "metadata": {},
   "outputs": [],
   "source": [
    "def initializeDb(username, password, server, port, database):\n",
    "    parameters = { \n",
    "               'username': username, \n",
    "               'password': password,\n",
    "               'server':   server,\n",
    "                'port' : port,\n",
    "               'database': database\n",
    "             }\n",
    "    connection = 'postgresql://{username}:{password}@{server}:{port}/{database}'.format(**parameters);\n",
    "    \n",
    "    return sa.create_engine(connection, encoding=\"utf-8\")"
   ]
  },
  {
   "cell_type": "code",
   "execution_count": 6,
   "metadata": {},
   "outputs": [],
   "source": [
    "def main2 (username,password,server,port,database):\n",
    "   \n",
    "    return initializeDb(username,password,server,port,database);"
   ]
  },
  {
   "cell_type": "code",
   "execution_count": 66,
   "metadata": {},
   "outputs": [],
   "source": [
    "engine = main2(\"postgres\",\"postgres\",\"localhost\",5434,\"Fluo-N2DH-SIM+_GT\")"
   ]
  },
  {
   "cell_type": "code",
   "execution_count": 67,
   "metadata": {},
   "outputs": [],
   "source": [
    "cells0 = pd.read_sql_query('select cellid, ST_AsText(ST_centroid(geom)) as centroid, myId from %s where frame=0'%('lifetmp'),con=engine)"
   ]
  },
  {
   "cell_type": "code",
   "execution_count": null,
   "metadata": {},
   "outputs": [],
   "source": [
    "278 481 <type 'int'> <type 'int'>\n",
    "278 481 <type 'int'> <type 'int'>"
   ]
  },
  {
   "cell_type": "code",
   "execution_count": 61,
   "metadata": {},
   "outputs": [],
   "source": [
    "def changePix(image):\n",
    "    for k in range(0,64):\n",
    "        im = Image.open('..\\\\Datasets\\\\TrackingChallenge\\\\Fluo-N2DH-SIM+\\\\01_GT\\\\TRA\\\\segmented\\\\0\\\\0\\\\0\\\\man_track{:03.0f}.tif'.format(k)) # Can be many different formats.\n",
    "        pix = im.load()\n",
    "        cells = pd.read_sql_query('select cellid, ST_X(ST_centroid(geom)) as x,ST_Y(ST_centroid(geom)) as y, myId from %s where frame=%s'%('lifetmp',k),con=engine)\n",
    "        for index, row in cells.iterrows():\n",
    "            x = int(row.x)\n",
    "            y = 0-int(row.y)\n",
    "            print x,y,type(x),type(y)\n",
    "            changeCell = pix[x,y]  # Get the RGBA Value of the apixel of an image\n",
    "            columnsize, rowsize = im.size \n",
    "            for i in range(rowsize):\n",
    "                for j in range(columnsize):\n",
    "                    if(pix[j,i]==changeCell):\n",
    "                        im.putpixel((j, i), row.myid)  # Set the RGBA Value of the image (tuple)\n",
    "        \n",
    "        im.save('RES\\\\mask{:03.0f}.tif'.format(k))  # Save the modified pixels as .png"
   ]
  },
  {
   "cell_type": "code",
   "execution_count": 119,
   "metadata": {},
   "outputs": [],
   "source": [
    "def changePix(image):\n",
    "    for k in range(0,1):\n",
    "        im = Image.open('..\\\\Datasets\\\\TrackingChallenge\\\\Fluo-N2DH-SIM+\\\\01_GT\\\\TRA\\\\segmented\\\\0\\\\0\\\\0\\\\man_track{:03.0f}.tif'.format(k)) # Can be many different formats.\n",
    "        pix = im.load()\n",
    "        cells = pd.read_sql_query('select cellid, ST_AsText(ST_centroid(geom)) as centroid, myId + 256 myid from %s where frame=%s'%('lifetmp',k),con=engine)\n",
    "        print cells\n",
    "        for index, row in cells.iterrows():\n",
    "            if row.myid == 0:\n",
    "                continue\n",
    "            try:\n",
    "                print row.myid\n",
    "                x = int(float(re.findall(\"\\d+\\.\\d+\",row.centroid)[0]))\n",
    "                y = int(float(re.findall(\"\\d+\\.\\d+\",row.centroid)[1]))\n",
    "                changeCell = pix[x,y]  # Get the RGBA Value of the apixel of an image\n",
    "                columnsize, rowsize = im.size \n",
    "                for i in range(rowsize):\n",
    "                    for j in range(columnsize):\n",
    "                        if(pix[j,i]==changeCell):\n",
    "                            im.putpixel((j, i), int(row.myid) )  # Set the RGBA Value of the image (tuple)\n",
    "            except:\n",
    "                print row.cellid\n",
    "                print re.findall(\"\\d+\\.\\d+\",row.centroid)\n",
    "        im.save('RES\\\\mask{:03.0f}.tif'.format(k))  # Save the modified pixels as .png"
   ]
  },
  {
   "cell_type": "code",
   "execution_count": 120,
   "metadata": {
    "scrolled": true
   },
   "outputs": [
    {
     "name": "stdout",
     "output_type": "stream",
     "text": [
      "    cellid                                   centroid  myid\n",
      "0       12  POINT(172.485653235653 -445.570436507937)   269\n",
      "1       19  POINT(615.218705547653 -216.883475580844)   276\n",
      "2       28  POINT(512.394959349593 -79.8433333333333)   285\n",
      "3       25  POINT(54.9831321899922 -147.097536876279)   282\n",
      "4       13  POINT(409.805397826849 -423.220609884332)   270\n",
      "5       26  POINT(310.185142769889 -107.311192548481)   283\n",
      "6       14  POINT(105.294299735749 -418.474216685542)   271\n",
      "7        3  POINT(318.001547867812 -629.627583004411)   260\n",
      "8       15  POINT(604.815607531627 -420.122609591056)   272\n",
      "9       16  POINT(49.0873786407767 -402.952877101587)   273\n",
      "10      17  POINT(241.978603603604 -398.950530888031)   274\n",
      "11      18  POINT(39.9768669124557 -345.170172775248)   275\n",
      "12       2  POINT(600.959163095538 -637.265103772792)   259\n",
      "13      11  POINT(52.7245349867139 -457.702096250369)   268\n",
      "14      22  POINT(310.033053515215 -192.249300454704)   279\n",
      "15      20   POINT(92.182841068917 -211.230259192285)   277\n",
      "16      21  POINT(259.262206675412 -204.520550940096)   278\n",
      "17      23  POINT(569.436562366052 -194.008786969567)   280\n",
      "18      24  POINT(377.313955053156 -157.792760059211)   281\n",
      "19      27  POINT(114.118631283001 -92.6939587190564)   284\n",
      "20       5  POINT(542.594096505315 -587.645102087635)   262\n",
      "21       6  POINT(362.287738887696 -543.730370052251)   263\n",
      "22       7   POINT(506.429649821766 -530.10141888586)   264\n",
      "23       9  POINT(457.301091269841 -500.115291950113)   266\n",
      "24       1  POINT(151.126147968555 -648.068988318272)   258\n",
      "25      10  POINT(278.939143341815 -481.911577608142)   267\n",
      "26       0   POINT(455.797803228183 -657.71093697676)   257\n",
      "27       4   POINT(205.63722697056 -617.628387756593)   261\n",
      "28      29             POINT(560.199231950845 -44.85)   286\n",
      "29       8  POINT(127.241687307663 -505.450874427681)   265\n",
      "269\n",
      "276\n",
      "285\n",
      "282\n",
      "270\n",
      "283\n",
      "271\n",
      "260\n",
      "272\n",
      "273\n",
      "274\n",
      "275\n",
      "259\n",
      "268\n",
      "279\n",
      "277\n",
      "278\n",
      "280\n",
      "281\n",
      "284\n",
      "262\n",
      "263\n",
      "264\n",
      "266\n",
      "258\n",
      "267\n",
      "257\n",
      "261\n",
      "286\n",
      "265\n"
     ]
    }
   ],
   "source": [
    "changePix('..\\\\mask000.tif')"
   ]
  },
  {
   "cell_type": "code",
   "execution_count": null,
   "metadata": {},
   "outputs": [],
   "source": []
  }
 ],
 "metadata": {
  "kernelspec": {
   "display_name": "Python 2",
   "language": "python",
   "name": "python2"
  },
  "language_info": {
   "codemirror_mode": {
    "name": "ipython",
    "version": 2
   },
   "file_extension": ".py",
   "mimetype": "text/x-python",
   "name": "python",
   "nbconvert_exporter": "python",
   "pygments_lexer": "ipython2",
   "version": "2.7.16"
  }
 },
 "nbformat": 4,
 "nbformat_minor": 2
}
