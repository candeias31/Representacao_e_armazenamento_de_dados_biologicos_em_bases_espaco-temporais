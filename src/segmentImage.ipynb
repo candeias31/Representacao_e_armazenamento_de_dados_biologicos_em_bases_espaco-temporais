{
 "cells": [
  {
   "cell_type": "markdown",
   "metadata": {},
   "source": [
    "This script needs to run in a computer with ImageJ installed with the plugin \"Auto_Threshold\" (latest verion tested 1.17.2)"
   ]
  },
  {
   "cell_type": "code",
   "execution_count": null,
   "metadata": {},
   "outputs": [],
   "source": [
    "import os\n",
    "import cv2"
   ]
  },
  {
   "cell_type": "markdown",
   "metadata": {},
   "source": [
    "function that translate the treatment given to the image after the threshold, depending on type"
   ]
  },
  {
   "cell_type": "code",
   "execution_count": null,
   "metadata": {},
   "outputs": [],
   "source": [
    "def returnType(treatment):\n",
    "    type0 = \"\";\n",
    "    \n",
    "    type1 = \"\"\"run(\"Close-\");\\n\"\"\";\n",
    "    \n",
    "    type2 = \"\"\"run(\"Open\");\\n\"\"\"; \n",
    "    \n",
    "    type3 = \"\"\"run(\"Erode\");\\n\"\"\"\n",
    "    \n",
    "    type4 = \"\"\"run(\"Dilate\");\\n\"\"\"\n",
    "    \n",
    "    type5 = type1+type2;\n",
    "    \n",
    "    type6 = type2+type1;\n",
    "    \n",
    "    types = [type0,type1,type2,type3,type4,type5,type6]\n",
    "    return (types[treatment])"
   ]
  },
  {
   "cell_type": "markdown",
   "metadata": {},
   "source": [
    "fuction that creates the macro that does the changes needed to all images from the given dataset and returns the path to the created macro:\n",
    "    - src : specify the original dataset directory path\n",
    "    - dest : specify the directory path to the new dataset\n",
    "    - method : Threshold method \n",
    "    - treatment : pre-defined set of changes to make after the threshold algorithm\n",
    "    - filename : substring of original images before the image number\n",
    "    - changeback : switch the background with the foreground color before make the defined changes. (default = True)"
   ]
  },
  {
   "cell_type": "code",
   "execution_count": null,
   "metadata": {},
   "outputs": [],
   "source": [
    "def createMacro(src, dest,method,treatment,fileName,changeBack=True):\n",
    "    try: \n",
    "        os.makedirs(dest)\n",
    "    except OSError:\n",
    "        if not os.path.isdir(dest):\n",
    "            raise\n",
    "    dirPath = dest+\"\\\\\"+method+str(treatment);\n",
    "    os.mkdir(dirPath)\n",
    "    \n",
    "    files = os.listdir(src);\n",
    "    frames = sum(1 for file in files if file.endswith(\".tif\"))\n",
    "    \n",
    "    source = src.replace(\"\\\\\",\"/\");\n",
    "    dirPath +=\"/\"\n",
    "    dirPath = dirPath.replace(\"\\\\\",\"/\");\n",
    "    dirPath = dirPath.replace(\"\\0\",\"\\\\0\")\n",
    "    macro = \"\"\"for(i=0;i<{frames};i++){{\n",
    "    if(i<10){{\n",
    "    fileTif = \"{fileName}00\"+i+\".tif\";}}\n",
    "    else if(i<100){{\n",
    "    fileTif = \"{fileName}0\"+i+\".tif\";}}\n",
    "    else{{\n",
    "    fileTif = \"{fileName}\"+i+\".tif\";}}\n",
    "    open(\"{source}\"+fileTif);\n",
    "    run(\"8-bit\");\n",
    "    run(\"Auto Threshold...\", \"method={method}\");\n",
    "    \"\"\".format(frames=frames,fileName=fileName,source=source,destination=dirPath,method=method)\n",
    "    if(changeBack):\n",
    "        macro += \"\"\"setOption(\"BlackBackground\", true);\n",
    "        run(\"Convert to Mask\");\n",
    "        \"\"\";\n",
    "    macro += str(returnType(treatment));\n",
    "    if(changeBack):\n",
    "        macro += \"\"\"setAutoThreshold(\"Default dark\");\n",
    "        \"\"\";\n",
    "    macro += \"\"\"saveAs(\"Tiff\", \"{destination}\"+fileTif);\n",
    "    close();\n",
    "    }}\n",
    "    \"\"\".format(frames=frames,fileName=fileName,source=source,destination=dirPath,method=method)\n",
    "    macroPath = dirPath+\"macro.ijm\"\n",
    "    f = open(macroPath,'w');\n",
    "    f.write(macro);\n",
    "    f.close();\n",
    "    return macroPath;\n",
    "    "
   ]
  },
  {
   "cell_type": "code",
   "execution_count": null,
   "metadata": {},
   "outputs": [],
   "source": [
    "def main():\n",
    "    src = \"..\\\\Datasets\\\\TrackingChallenge\\\\PhC-C2DL-PSC\\\\01\\\\\";\n",
    "    dest = \"..\\\\Datasets\\\\TrackingChallenge\\\\PhC-C2DL-PSC\\\\01_GT\\\\TRA\\\\segmented\\\\\";\n",
    "    method = \"MaxEntropy\"\n",
    "    treatment = 0;\n",
    "    fileName = \"t\"\n",
    "    macroPath = createMacro(src,dest,method,treatment,fileName)\n",
    "    imageJdir = \"C:\\Users\\cool_\\Documents\\ImageJ\\ImageJ.exe\";\n",
    "    \n",
    "    cmd = 'cmd /c \\\"\"'+ imageJdir + '\" -macro \\\"' + macroPath + '\\\"\"';\n",
    "    os.system(cmd);\n",
    "\n",
    "main()"
   ]
  },
  {
   "cell_type": "markdown",
   "metadata": {},
   "source": [
    "rename all images name to a format like name + number with 3 digits + \".tif\""
   ]
  },
  {
   "cell_type": "code",
   "execution_count": null,
   "metadata": {},
   "outputs": [],
   "source": [
    "def renameImages(src,name):\n",
    "    i=0;\n",
    "    for file in os.listdir(src):\n",
    "        os.rename(src+file,src+name+\"{:03.0f}.tif\".format(i));\n",
    "        i +=1;\n",
    "\n",
    "src = \"..\\\\Datasets\\\\TrackingChallenge\\\\Extracted-Gif\\\\dataset\\\\\";\n",
    "renameImages(src,\"frame\")"
   ]
  }
 ],
 "metadata": {
  "kernelspec": {
   "display_name": "Python 2",
   "language": "python",
   "name": "python2"
  },
  "language_info": {
   "codemirror_mode": {
    "name": "ipython",
    "version": 2
   },
   "file_extension": ".py",
   "mimetype": "text/x-python",
   "name": "python",
   "nbconvert_exporter": "python",
   "pygments_lexer": "ipython2",
   "version": "2.7.16"
  }
 },
 "nbformat": 4,
 "nbformat_minor": 2
}
